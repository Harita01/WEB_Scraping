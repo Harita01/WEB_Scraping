{
 "cells": [
  {
   "cell_type": "code",
   "execution_count": 1,
   "metadata": {},
   "outputs": [],
   "source": [
    "import pandas as pd\n",
    "import requests\n",
    "import bs4\n",
    "from bs4 import BeautifulSoup"
   ]
  },
  {
   "cell_type": "code",
   "execution_count": 2,
   "metadata": {},
   "outputs": [],
   "source": [
    "url = 'https://www.engelvoelkers.com/en-de/properties/rent-apartment/'"
   ]
  },
  {
   "cell_type": "code",
   "execution_count": 3,
   "metadata": {},
   "outputs": [
    {
     "data": {
      "text/plain": [
       "<Response [200]>"
      ]
     },
     "execution_count": 3,
     "metadata": {},
     "output_type": "execute_result"
    }
   ],
   "source": [
    "page = requests.get(url)\n",
    "page"
   ]
  },
  {
   "cell_type": "code",
   "execution_count": 4,
   "metadata": {},
   "outputs": [],
   "source": [
    "soup = BeautifulSoup(page.content, 'html.parser')"
   ]
  },
  {
   "cell_type": "code",
   "execution_count": 5,
   "metadata": {},
   "outputs": [],
   "source": [
    "lists = soup.find_all('div',{'class': 'col-lg-8 col-md-8 col-sm-12 col-xs-12'})\n"
   ]
  },
  {
   "cell_type": "code",
   "execution_count": 8,
   "metadata": {},
   "outputs": [],
   "source": [
    "for list in lists:\n",
    "                    places = list.find_all('div',{'class': 'ev-teaser-title'})\n",
    "                    location = list.find_all('div',{'class': 'ev-teaser-subtitle'})\n",
    "                    cost = list.find_all('div',{'class': 'ev-value'})\n",
    "                "
   ]
  },
  {
   "cell_type": "code",
   "execution_count": 10,
   "metadata": {},
   "outputs": [],
   "source": [
    "place_list = []\n",
    "for i in places:\n",
    "    places = i.text\n",
    "    place_list.append(places)\n",
    "    \n",
    "location_list = []\n",
    "for i in location:\n",
    "    location = i.text\n",
    "    location_list.append(location)\n",
    "\n",
    "cost_list = []\n",
    "for i in cost:\n",
    "    cost = i.text\n",
    "    cost_list.append(cost)"
   ]
  },
  {
   "cell_type": "code",
   "execution_count": 16,
   "metadata": {},
   "outputs": [],
   "source": [
    "df = pd.DataFrame({'Apartment':place_list,\n",
    " 'Location': location_list,\n",
    " 'Rent':cost_list})"
   ]
  },
  {
   "cell_type": "code",
   "execution_count": 17,
   "metadata": {},
   "outputs": [
    {
     "data": {
      "text/html": [
       "<div>\n",
       "<style scoped>\n",
       "    .dataframe tbody tr th:only-of-type {\n",
       "        vertical-align: middle;\n",
       "    }\n",
       "\n",
       "    .dataframe tbody tr th {\n",
       "        vertical-align: top;\n",
       "    }\n",
       "\n",
       "    .dataframe thead th {\n",
       "        text-align: right;\n",
       "    }\n",
       "</style>\n",
       "<table border=\"1\" class=\"dataframe\">\n",
       "  <thead>\n",
       "    <tr style=\"text-align: right;\">\n",
       "      <th></th>\n",
       "      <th>Apartment</th>\n",
       "      <th>Location</th>\n",
       "      <th>Rent</th>\n",
       "    </tr>\n",
       "  </thead>\n",
       "  <tbody>\n",
       "    <tr>\n",
       "      <th>0</th>\n",
       "      <td>Luxuriöse Vier-Zimmer-Wohnung in Toplage</td>\n",
       "      <td>Germany, Hesse, Frankfurt, Westend-Süd</td>\n",
       "      <td>3.187 EUR</td>\n",
       "    </tr>\n",
       "    <tr>\n",
       "      <th>1</th>\n",
       "      <td>Modern appartment with sunny balcony!</td>\n",
       "      <td>Germany, Bavaria, Munich, Bogenhausen</td>\n",
       "      <td>1.650 EUR</td>\n",
       "    </tr>\n",
       "    <tr>\n",
       "      <th>2</th>\n",
       "      <td>Retail space directly at the Laimer S-Bahn sta...</td>\n",
       "      <td>Germany, Bavaria, Munich</td>\n",
       "      <td>2.500 EUR</td>\n",
       "    </tr>\n",
       "    <tr>\n",
       "      <th>3</th>\n",
       "      <td>Exquisites Penthouse in bester Lage</td>\n",
       "      <td>Germany, Northrhine-Westphalia, Cologne, Marie...</td>\n",
       "      <td>4.336 EUR</td>\n",
       "    </tr>\n",
       "    <tr>\n",
       "      <th>4</th>\n",
       "      <td>*** VORANKÜNDIGUNG *** BÜROFLÄCHEN - CA. 180 M...</td>\n",
       "      <td>Germany, Bavaria, Rottal-Inn (Kreis), Pfarrkir...</td>\n",
       "      <td>1.600 EUR</td>\n",
       "    </tr>\n",
       "    <tr>\n",
       "      <th>5</th>\n",
       "      <td>Stilvolles Penthouse voll möbliert</td>\n",
       "      <td>Germany, Hesse, Wiesbaden, Nordost</td>\n",
       "      <td>2.250 EUR</td>\n",
       "    </tr>\n",
       "    <tr>\n",
       "      <th>6</th>\n",
       "      <td>Möblierte Luxus-Maisonette-Wohnung</td>\n",
       "      <td>Germany, Hesse, Frankfurt, Altstadt</td>\n",
       "      <td>3.900 EUR</td>\n",
       "    </tr>\n",
       "    <tr>\n",
       "      <th>7</th>\n",
       "      <td>Große, moderne und hochwertige Gartenwohnung!</td>\n",
       "      <td>Germany, Baden-Württemberg, Villingen-Schwenni...</td>\n",
       "      <td>1.420 EUR</td>\n",
       "    </tr>\n",
       "    <tr>\n",
       "      <th>8</th>\n",
       "      <td>Zentral Wohnen in der Stadt</td>\n",
       "      <td>Germany, Hesse, Groß Gerau (Kreis), Groß-Gerau</td>\n",
       "      <td>840 EUR</td>\n",
       "    </tr>\n",
       "    <tr>\n",
       "      <th>9</th>\n",
       "      <td>\"Traumhafte Penthouse-Maisonette-Wohnung\"</td>\n",
       "      <td>Germany, Hesse, Frankfurt, Ostend</td>\n",
       "      <td>3.690 EUR</td>\n",
       "    </tr>\n",
       "    <tr>\n",
       "      <th>10</th>\n",
       "      <td>Renovierte Single-Wohnung in schöner Lage</td>\n",
       "      <td>Germany, Northrhine-Westphalia, Bielefeld, Bra...</td>\n",
       "      <td>630 EUR</td>\n",
       "    </tr>\n",
       "    <tr>\n",
       "      <th>11</th>\n",
       "      <td>Großzügiges Wohnen am schönen Südhang</td>\n",
       "      <td>Germany, Northrhine-Westphalia, Bielefeld, Bra...</td>\n",
       "      <td>1.610 EUR</td>\n",
       "    </tr>\n",
       "    <tr>\n",
       "      <th>12</th>\n",
       "      <td>Helle EG-Wohnung direkt in der Altstadt</td>\n",
       "      <td>Germany, Hesse, Fulda</td>\n",
       "      <td>825 EUR</td>\n",
       "    </tr>\n",
       "    <tr>\n",
       "      <th>13</th>\n",
       "      <td>Wohnen in exklusiver Lage!</td>\n",
       "      <td>Germany, Rhineland-Palatinate, Bad Kreuznach, ...</td>\n",
       "      <td>1.050 EUR</td>\n",
       "    </tr>\n",
       "    <tr>\n",
       "      <th>14</th>\n",
       "      <td>Gepflegte 2ZKB mit Blick ins Grüne!</td>\n",
       "      <td>Germany, Saarland, Saarbrücken (Regionalverban...</td>\n",
       "      <td>560 EUR</td>\n",
       "    </tr>\n",
       "    <tr>\n",
       "      <th>15</th>\n",
       "      <td>Gemütliche 3-Zimmer-Wohnung mit Balkon!</td>\n",
       "      <td>Germany, Baden-Württemberg, Waiblingen / Remst...</td>\n",
       "      <td>750 EUR</td>\n",
       "    </tr>\n",
       "    <tr>\n",
       "      <th>16</th>\n",
       "      <td>Schöne 3-Zimmer Wohnung mit Balkon</td>\n",
       "      <td>Germany, Baden-Württemberg, Stuttgart-Feuerbac...</td>\n",
       "      <td>1.170 EUR</td>\n",
       "    </tr>\n",
       "    <tr>\n",
       "      <th>17</th>\n",
       "      <td>Helle 3-Zimmerwohnung mit Balkon!</td>\n",
       "      <td>Germany, Saarland, Saarbrücken (Regionalverband)</td>\n",
       "      <td>880 EUR</td>\n",
       "    </tr>\n",
       "  </tbody>\n",
       "</table>\n",
       "</div>"
      ],
      "text/plain": [
       "                                            Apartment  \\\n",
       "0            Luxuriöse Vier-Zimmer-Wohnung in Toplage   \n",
       "1               Modern appartment with sunny balcony!   \n",
       "2   Retail space directly at the Laimer S-Bahn sta...   \n",
       "3                 Exquisites Penthouse in bester Lage   \n",
       "4   *** VORANKÜNDIGUNG *** BÜROFLÄCHEN - CA. 180 M...   \n",
       "5                  Stilvolles Penthouse voll möbliert   \n",
       "6                  Möblierte Luxus-Maisonette-Wohnung   \n",
       "7       Große, moderne und hochwertige Gartenwohnung!   \n",
       "8                         Zentral Wohnen in der Stadt   \n",
       "9           \"Traumhafte Penthouse-Maisonette-Wohnung\"   \n",
       "10          Renovierte Single-Wohnung in schöner Lage   \n",
       "11              Großzügiges Wohnen am schönen Südhang   \n",
       "12            Helle EG-Wohnung direkt in der Altstadt   \n",
       "13                         Wohnen in exklusiver Lage!   \n",
       "14                Gepflegte 2ZKB mit Blick ins Grüne!   \n",
       "15            Gemütliche 3-Zimmer-Wohnung mit Balkon!   \n",
       "16                 Schöne 3-Zimmer Wohnung mit Balkon   \n",
       "17                  Helle 3-Zimmerwohnung mit Balkon!   \n",
       "\n",
       "                                             Location         Rent  \n",
       "0              Germany, Hesse, Frankfurt, Westend-Süd   3.187 EUR   \n",
       "1               Germany, Bavaria, Munich, Bogenhausen   1.650 EUR   \n",
       "2                            Germany, Bavaria, Munich   2.500 EUR   \n",
       "3   Germany, Northrhine-Westphalia, Cologne, Marie...   4.336 EUR   \n",
       "4   Germany, Bavaria, Rottal-Inn (Kreis), Pfarrkir...   1.600 EUR   \n",
       "5                  Germany, Hesse, Wiesbaden, Nordost   2.250 EUR   \n",
       "6                 Germany, Hesse, Frankfurt, Altstadt   3.900 EUR   \n",
       "7   Germany, Baden-Württemberg, Villingen-Schwenni...   1.420 EUR   \n",
       "8      Germany, Hesse, Groß Gerau (Kreis), Groß-Gerau     840 EUR   \n",
       "9                   Germany, Hesse, Frankfurt, Ostend   3.690 EUR   \n",
       "10  Germany, Northrhine-Westphalia, Bielefeld, Bra...     630 EUR   \n",
       "11  Germany, Northrhine-Westphalia, Bielefeld, Bra...   1.610 EUR   \n",
       "12                              Germany, Hesse, Fulda     825 EUR   \n",
       "13  Germany, Rhineland-Palatinate, Bad Kreuznach, ...   1.050 EUR   \n",
       "14  Germany, Saarland, Saarbrücken (Regionalverban...     560 EUR   \n",
       "15  Germany, Baden-Württemberg, Waiblingen / Remst...     750 EUR   \n",
       "16  Germany, Baden-Württemberg, Stuttgart-Feuerbac...   1.170 EUR   \n",
       "17   Germany, Saarland, Saarbrücken (Regionalverband)     880 EUR   "
      ]
     },
     "execution_count": 17,
     "metadata": {},
     "output_type": "execute_result"
    }
   ],
   "source": [
    "df"
   ]
  }
 ],
 "metadata": {
  "kernelspec": {
   "display_name": "Python 3",
   "language": "python",
   "name": "python3"
  },
  "language_info": {
   "codemirror_mode": {
    "name": "ipython",
    "version": 3
   },
   "file_extension": ".py",
   "mimetype": "text/x-python",
   "name": "python",
   "nbconvert_exporter": "python",
   "pygments_lexer": "ipython3",
   "version": "3.8.5"
  }
 },
 "nbformat": 4,
 "nbformat_minor": 4
}
